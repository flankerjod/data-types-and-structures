{
  "cells": [
    {
      "cell_type": "code",
      "execution_count": null,
      "metadata": {
        "id": "2d6G_ZafzLc2"
      },
      "outputs": [],
      "source": [
        "#  1) What are data structures, and why are they important?\n",
        "\n",
        "\n",
        "###>>A data structure is a way of organizing and storing data in a computer so that\n",
        "#it can be accessed and modified efficiently. It is a collection of data\n",
        "#elements that are organized in a specific way to suit particular operations,\n",
        "# such as searching, inserting, deleting, or updating data.\n",
        "\n",
        "##importance of data structure\n",
        "#Data Organization: Data structures help in organizing and managing large amounts of data in a way that makes it easy to process. For instance:\n",
        "\n",
        "#1.Graphs are ideal for representing networks like social media connections.\n",
        "#2.Trees are useful for representing hierarchical data such as file systems.\n",
        "\n"
      ]
    },
    {
      "cell_type": "code",
      "execution_count": null,
      "metadata": {
        "id": "Amy0U5Sh2a9p"
      },
      "outputs": [],
      "source": [
        "#  2)Explain the difference between mutable and immutable data types with examples\n",
        "#>>mutable data types\n",
        "# These are objects whose values can be modified after creation.\n",
        "#Examples: Lists, dictionaries, sets\n",
        "\n",
        "#immutable data types\n",
        "#These are objects whose values cannot be changed after creation. If a change is needed, a new object is created.\n",
        "#Examples: Strings, tuples, integers, floats\n",
        "\n"
      ]
    },
    {
      "cell_type": "code",
      "execution_count": null,
      "metadata": {
        "id": "CsUZgtvW3Tw-"
      },
      "outputs": [],
      "source": [
        "#   3)What are the main differences between lists and tuples in Python\n",
        "# >>list :-mutable,created using sqare brackets[]\n",
        "# >>toples:-imuttable,created using paranthesis()"
      ]
    },
    {
      "cell_type": "markdown",
      "metadata": {
        "id": "t1sbZC0y8Kxz"
      },
      "source": []
    },
    {
      "cell_type": "code",
      "execution_count": null,
      "metadata": {
        "id": "WeNPfrC-4019"
      },
      "outputs": [],
      "source": [
        "#  4)Describe how dictionaries store data\n",
        "\n",
        "#  >> my_dict = {\"name\": \"ritesh\", \"age\": 23,}\n",
        "#  here..name is name is key and ritesh is value\n"
      ]
    },
    {
      "cell_type": "code",
      "execution_count": null,
      "metadata": {
        "id": "vxf3rWvK508a"
      },
      "outputs": [],
      "source": [
        "#  5)Why might you use a set instead of a list in Python\n",
        "\n",
        "#  >>Sets automatically ensure all elements are unique, whereas lists allow duplicates."
      ]
    },
    {
      "cell_type": "code",
      "execution_count": null,
      "metadata": {
        "id": "tcGy6Cqr7jiT"
      },
      "outputs": [],
      "source": [
        "#  6)What is a string in Python, and how is it different from a list\n",
        "\n",
        "#  >>A string in Python is a sequence of characters enclosed in single quotes\n",
        "# ('), double quotes (\"), or triple quotes (''' \"\"\").\n",
        "\n",
        "# list can hold any type of data"
      ]
    },
    {
      "cell_type": "code",
      "execution_count": 1,
      "metadata": {
        "id": "j1X7Gfv28iRK"
      },
      "outputs": [],
      "source": [
        "#  7) How do tuples ensure data integrity in Python\n",
        "\n",
        "#  >>Tuples in Python help ensure data integrity because they are immutable,\n",
        "#     meaning once a tuple is created, its elements cannot be changed, added,\n",
        "#       or removed.\n",
        "\n"
      ]
    },
    {
      "cell_type": "code",
      "execution_count": 3,
      "metadata": {
        "id": "k3NrO8OdqyBx"
      },
      "outputs": [],
      "source": [
        "# 8) What is a hash table, and how does it relate to dictionaries in Python ?\n",
        "\n",
        "#  >>A hash table is a data structure that implements an associative array,\n",
        "#     allowing you to store and retrieve data efficiently using a key."
      ]
    },
    {
      "cell_type": "code",
      "execution_count": 4,
      "metadata": {
        "id": "DOUrCeM2s_4P"
      },
      "outputs": [],
      "source": [
        "#  9) Can lists contain different data types in Python?\n",
        "\n",
        "#  >>Yes, lists in Python can contain elements of different data types.\n",
        "#   Python lists are highly flexible and allow you to store a mix of integers,\n",
        "#    floats, strings, objects, and even other lists or data structures."
      ]
    },
    {
      "cell_type": "code",
      "execution_count": 5,
      "metadata": {
        "id": "ZfCEcj7vthCT"
      },
      "outputs": [],
      "source": [
        "#  10)Explain why strings are immutable in Python ?\n",
        "\n",
        "#  >>Strings are widely used, so immutability helps optimize memory usage."
      ]
    },
    {
      "cell_type": "markdown",
      "metadata": {
        "id": "BpXX0fVuvXE3"
      },
      "source": []
    },
    {
      "cell_type": "code",
      "execution_count": 6,
      "metadata": {
        "id": "NF_9KcHruPGl"
      },
      "outputs": [],
      "source": [
        "#  11) What advantages do dictionaries offer over lists for certain tasks?\n",
        "\n",
        "#  >>Dictionaries allow you to associate unique keys with specific values,\n",
        "#   making them ideal for tasks where data needs to be organized by identifiers."
      ]
    },
    {
      "cell_type": "code",
      "execution_count": 9,
      "metadata": {
        "id": "gfgCzMYivo5l"
      },
      "outputs": [],
      "source": [
        "#  12) Describe a scenario where using a tuple would be preferable over a list?\n",
        "\n",
        "#  >>Using a tuple instead of a list is preferable in scenarios where you need\n",
        "#   a collection of data that should remain constant and immutable throughout\n",
        "#   the program.\n",
        "#  example:-coordinate = (40.7128, -74.0060)\n"
      ]
    },
    {
      "cell_type": "code",
      "execution_count": 10,
      "metadata": {
        "colab": {
          "base_uri": "https://localhost:8080/"
        },
        "id": "kUJRGBWgwzKH",
        "outputId": "d17ee805-4af2-4f4e-823d-9bf2ae2ae75b"
      },
      "outputs": [
        {
          "name": "stdout",
          "output_type": "stream",
          "text": [
            "{1, 2, 3, 4}\n"
          ]
        }
      ],
      "source": [
        "#  13)  How do sets handle duplicate values in Python?\n",
        "\n",
        "#  >>A set stores only unique elements. If you attempt to add a duplicate\n",
        "#    value, it will not be added, and no error will occur.\n",
        "#    example :-\n",
        "my_set = {1, 2, 3, 3, 4}\n",
        "print(my_set)  # Output: {1, 2, 3, 4}\n"
      ]
    },
    {
      "cell_type": "code",
      "execution_count": 11,
      "metadata": {
        "id": "MMextvsFxado"
      },
      "outputs": [],
      "source": [
        "#  14) How does the “in” keyword work differently for lists and dictionaries?\n",
        "\n",
        "#  >>in for Lists-\n",
        "#    When using in with a list, it checks whether a value exists in the list\n",
        "#    by iterating through each element.\n",
        "#  >>in for Dictionaries\n",
        "#   When using in with a dictionary, it checks only the keys,\n",
        "#   not the values, by default."
      ]
    },
    {
      "cell_type": "code",
      "execution_count": 14,
      "metadata": {
        "id": "vYxdc3Zb04gR"
      },
      "outputs": [],
      "source": [
        "#  15) Can you modify the elements of a tuple? Explain why or why not?\n",
        "\n",
        "#  >>No, you cannot modify the elements of a tuple in Python.\n",
        "#    This is because tuples are immutable, meaning once a tuple is created,\n",
        "#    its size and elements cannot be changed."
      ]
    },
    {
      "cell_type": "markdown",
      "metadata": {
        "id": "7XO1wcim2bTZ"
      },
      "source": []
    },
    {
      "cell_type": "code",
      "execution_count": 1,
      "metadata": {
        "id": "Wthorkmd2OQp"
      },
      "outputs": [],
      "source": [
        "#  16)  What is a nested dictionary, and give an example of its use case?\n",
        "\n",
        "#  >>Structure of a Nested Dictionary\n",
        "#   A nested dictionary is simply a dictionary that contains other\n",
        "#   dictionaries as values.\n"
      ]
    },
    {
      "cell_type": "code",
      "execution_count": 2,
      "metadata": {
        "id": "t8pSzB5vRYKF"
      },
      "outputs": [],
      "source": [
        "#  17) Describe the time complexity of accessing elements in a dictionary?\n",
        "\n",
        "#  >>The time complexity of accessing elements in a dictionary in Python depends\n",
        "#   on whether the key exists in the dictionary and the underlying operations\n",
        "#   performed.\n",
        "\n",
        "#  Accessing an element by key (e.g., my_dict[key]) has an average time\n",
        "#   complexity of O(1) (constant time).\n",
        "\n",
        "\n"
      ]
    },
    {
      "cell_type": "code",
      "execution_count": 3,
      "metadata": {
        "id": "YkKVff-pS0dv"
      },
      "outputs": [],
      "source": [
        "#  18) In what situations are lists preferred over dictionaries?\n",
        "\n",
        "#  >>Lists and dictionaries are both versatile data structures in Python,\n",
        "#   but they serve different purposes. Lists are preferred over dictionaries\n",
        "#   in situations where order, indexing, or sequential data is the priority."
      ]
    },
    {
      "cell_type": "code",
      "execution_count": 4,
      "metadata": {
        "id": "evOS7bItTdkG"
      },
      "outputs": [],
      "source": [
        "#  19)Why are dictionaries considered unordered, and how does that affect data retrieval?\n",
        "\n",
        "#  >>Dictionaries use a hash table as their underlying data structure.\n",
        "#   Keys are hashed into an integer value, which determines where the\n",
        "#   key-value pair is stored in memory."
      ]
    },
    {
      "cell_type": "code",
      "execution_count": 6,
      "metadata": {
        "id": "IwEq3DKoUFKk"
      },
      "outputs": [],
      "source": [
        "#  20)Explain the difference between a list and a dictionary in terms of data retrieval.\n",
        "\n",
        "#List:\n",
        "\n",
        "#  Data is retrieved using index-based access.\n",
        "#  Each element in a list is associated with an integer index that represents its position\n",
        "#  To access an element, you provide its position in the list.\n",
        "\n",
        "\n",
        "\n",
        "#  Dictionary:\n",
        "\n",
        "#  Data is retrieved using key-based access.\n",
        "#  Each value in a dictionary is associated with a unique key.\n",
        "#  To access an element, you provide its key"
      ]
    },
    {
      "cell_type": "code",
      "execution_count": 7,
      "metadata": {
        "id": "ZcMB5BgWU4uh"
      },
      "outputs": [],
      "source": [
        "                  ### PRACTICAL QUESTIONS  ###"
      ]
    },
    {
      "cell_type": "code",
      "execution_count": 1,
      "metadata": {
        "colab": {
          "base_uri": "https://localhost:8080/"
        },
        "id": "Nze7e8zmVQoI",
        "outputId": "d0582bfe-9b84-45c9-98e4-1e4e31dbbe3a"
      },
      "outputs": [
        {
          "name": "stdout",
          "output_type": "stream",
          "text": [
            "Ritesh patil\n"
          ]
        }
      ],
      "source": [
        "#  1)  Write a code to create a string with your name and print it.\n",
        "\n",
        "name = \"Ritesh patil\"\n",
        "print(name)"
      ]
    },
    {
      "cell_type": "code",
      "execution_count": 2,
      "metadata": {
        "colab": {
          "base_uri": "https://localhost:8080/"
        },
        "id": "sMZR47E1sKE-",
        "outputId": "be426757-3834-4a2a-d5f5-e3f10cbd233c"
      },
      "outputs": [
        {
          "name": "stdout",
          "output_type": "stream",
          "text": [
            "11\n"
          ]
        }
      ],
      "source": [
        "#  2) Write a code to find the length of the string \"Hello World\"\n",
        "\n",
        "length = len(\"Hello World\")\n",
        "print(length)"
      ]
    },
    {
      "cell_type": "code",
      "execution_count": 3,
      "metadata": {
        "colab": {
          "base_uri": "https://localhost:8080/"
        },
        "id": "2v70WrqKsdXV",
        "outputId": "b364c45c-af51-48d2-d124-f4d0c153bee3"
      },
      "outputs": [
        {
          "name": "stdout",
          "output_type": "stream",
          "text": [
            "Pyt\n"
          ]
        }
      ],
      "source": [
        "#  3) Write a code to slice the first 3 characters from the string \"Python Programming\"\n",
        "\n",
        "string = \"Python Programming\"\n",
        "sliced_string = string[:3]\n",
        "print(sliced_string)"
      ]
    },
    {
      "cell_type": "code",
      "execution_count": 4,
      "metadata": {
        "colab": {
          "base_uri": "https://localhost:8080/",
          "height": 35
        },
        "id": "-6lG9k5psugd",
        "outputId": "1dcd289a-bc20-45aa-e73b-f2160ccaf85e"
      },
      "outputs": [
        {
          "data": {
            "application/vnd.google.colaboratory.intrinsic+json": {
              "type": "string"
            },
            "text/plain": [
              "'HELLO'"
            ]
          },
          "execution_count": 4,
          "metadata": {},
          "output_type": "execute_result"
        }
      ],
      "source": [
        "#  4) Write a code to convert the string \"hello\" to uppercase\n",
        "\n",
        "r = \"hello\"\n",
        "r.upper()"
      ]
    },
    {
      "cell_type": "code",
      "execution_count": 5,
      "metadata": {
        "colab": {
          "base_uri": "https://localhost:8080/",
          "height": 35
        },
        "id": "5t-CLa4jtEWl",
        "outputId": "a984766a-a5c7-4181-cb5a-09cbc746afb6"
      },
      "outputs": [
        {
          "data": {
            "application/vnd.google.colaboratory.intrinsic+json": {
              "type": "string"
            },
            "text/plain": [
              "'I like orange'"
            ]
          },
          "execution_count": 5,
          "metadata": {},
          "output_type": "execute_result"
        }
      ],
      "source": [
        "#  5) Write a code to replace the word \"apple\" with \"orange\" in the string \"I like apple\"\n",
        "\n",
        "r = \"I like apple\"\n",
        "r.replace(\"apple\", \"orange\")"
      ]
    },
    {
      "cell_type": "code",
      "execution_count": 8,
      "metadata": {
        "colab": {
          "base_uri": "https://localhost:8080/"
        },
        "id": "FY6qmYnXtWQ9",
        "outputId": "65dce575-9d5e-4b27-c54d-86c993a44f3c"
      },
      "outputs": [
        {
          "data": {
            "text/plain": [
              "[1, 2, 3, 4, 5]"
            ]
          },
          "execution_count": 8,
          "metadata": {},
          "output_type": "execute_result"
        }
      ],
      "source": [
        "#  6) Write a code to create a list with numbers 1 to 5 and print it\n",
        "\n",
        "r = [1,2,3,4,5]\n",
        "r"
      ]
    },
    {
      "cell_type": "code",
      "execution_count": 9,
      "metadata": {
        "colab": {
          "base_uri": "https://localhost:8080/"
        },
        "id": "cGUub4pQtjwt",
        "outputId": "20dd12e9-4bae-4f0d-b7e3-6409a6d90e70"
      },
      "outputs": [
        {
          "data": {
            "text/plain": [
              "[1, 2, 3, 4, 10]"
            ]
          },
          "execution_count": 9,
          "metadata": {},
          "output_type": "execute_result"
        }
      ],
      "source": [
        "#  7) Write a code to append the number 10 to the list [1, 2, 3, 4]\n",
        "\n",
        "r = [1,2,3,4]\n",
        "r.append(10)\n",
        "r"
      ]
    },
    {
      "cell_type": "code",
      "execution_count": 10,
      "metadata": {
        "colab": {
          "base_uri": "https://localhost:8080/"
        },
        "id": "fiZWAINRt42u",
        "outputId": "90bd417c-79a7-4e11-e935-248f4484e39d"
      },
      "outputs": [
        {
          "data": {
            "text/plain": [
              "[1, 2, 4, 5]"
            ]
          },
          "execution_count": 10,
          "metadata": {},
          "output_type": "execute_result"
        }
      ],
      "source": [
        "#  8) Write a code to remove the number 3 from the list [1, 2, 3, 4, 5]\n",
        "\n",
        "r = [1, 2, 3, 4, 5]\n",
        "r.remove(3)\n",
        "r"
      ]
    },
    {
      "cell_type": "code",
      "execution_count": 13,
      "metadata": {
        "colab": {
          "base_uri": "https://localhost:8080/",
          "height": 35
        },
        "id": "gfnccGo-uMOe",
        "outputId": "dcdef9fc-5d0c-4b0e-a41d-89c2cfc5f8a7"
      },
      "outputs": [
        {
          "data": {
            "application/vnd.google.colaboratory.intrinsic+json": {
              "type": "string"
            },
            "text/plain": [
              "'b'"
            ]
          },
          "execution_count": 13,
          "metadata": {},
          "output_type": "execute_result"
        }
      ],
      "source": [
        "#  9) Write a code to access the second element in the list ['a', 'b', 'c', 'd']\n",
        "\n",
        "r = ['a', 'b', 'c', 'd']\n",
        "r[1]"
      ]
    },
    {
      "cell_type": "code",
      "execution_count": 14,
      "metadata": {
        "colab": {
          "base_uri": "https://localhost:8080/"
        },
        "id": "qVb-Zq1xugnz",
        "outputId": "43a94792-63f3-41f8-f601-d18546458f6f"
      },
      "outputs": [
        {
          "data": {
            "text/plain": [
              "[50, 40, 30, 20, 10]"
            ]
          },
          "execution_count": 14,
          "metadata": {},
          "output_type": "execute_result"
        }
      ],
      "source": [
        "#  10) Write a code to reverse the list [10, 20, 30, 40, 50]\n",
        "\n",
        "r = [10, 20, 30, 40, 50]\n",
        "r.reverse()\n",
        "r"
      ]
    },
    {
      "cell_type": "code",
      "execution_count": 1,
      "metadata": {
        "colab": {
          "base_uri": "https://localhost:8080/"
        },
        "id": "sKC-IWCHu9QG",
        "outputId": "bbf1809f-5791-4a4d-c56f-a7e3e0c7310e"
      },
      "outputs": [
        {
          "data": {
            "text/plain": [
              "(100, 200, 300)"
            ]
          },
          "execution_count": 1,
          "metadata": {},
          "output_type": "execute_result"
        }
      ],
      "source": [
        "#  11)  Write a code to create a tuple with the elements 10, 20, 30 and print it\n",
        "\n",
        "r = (100,200,300)\n",
        "r"
      ]
    },
    {
      "cell_type": "code",
      "execution_count": 2,
      "metadata": {
        "colab": {
          "base_uri": "https://localhost:8080/",
          "height": 35
        },
        "id": "kuWCVmFlvPIt",
        "outputId": "3a4a3455-e481-4951-9e08-3604d5208e6f"
      },
      "outputs": [
        {
          "data": {
            "text/plain": [
              "'blue'"
            ]
          },
          "execution_count": 2,
          "metadata": {},
          "output_type": "execute_result"
        }
      ],
      "source": [
        "#  12) Write a code to access the second-to-last element of the tuple ('red', 'green', 'blue', 'yellow').\n",
        "\n",
        "r = ('red', 'green', 'blue', 'yellow')\n",
        "r[-2]"
      ]
    },
    {
      "cell_type": "code",
      "execution_count": 4,
      "metadata": {
        "colab": {
          "base_uri": "https://localhost:8080/"
        },
        "id": "RDki_iwGvZts",
        "outputId": "706607d7-47e4-46c8-a1a5-c31a2d2cec8b"
      },
      "outputs": [
        {
          "data": {
            "text/plain": [
              "5"
            ]
          },
          "execution_count": 4,
          "metadata": {},
          "output_type": "execute_result"
        }
      ],
      "source": [
        "#  13)Write a code to find the minimum number in the tuple (10, 20, 5, 15).\n",
        "\n",
        "r = (10, 20, 5, 15)\n",
        "min(r)"
      ]
    },
    {
      "cell_type": "code",
      "execution_count": 18,
      "metadata": {
        "colab": {
          "base_uri": "https://localhost:8080/"
        },
        "id": "Auav9ArivlER",
        "outputId": "a85cdb9d-f9df-4454-ab08-40494d792e29"
      },
      "outputs": [
        {
          "data": {
            "text/plain": [
              "1"
            ]
          },
          "execution_count": 18,
          "metadata": {},
          "output_type": "execute_result"
        }
      ],
      "source": [
        "#  14) Write a code to find the index of the element \"cat\" in the tuple ('dog', 'cat', 'rabbit')\n",
        "\n",
        "r = ('dog', 'cat', 'rabbit')\n",
        "r.index('cat')"
      ]
    },
    {
      "cell_type": "code",
      "execution_count": 5,
      "metadata": {
        "colab": {
          "base_uri": "https://localhost:8080/"
        },
        "id": "kf0MtkkJvwWZ",
        "outputId": "562c5ae8-9c60-424e-828d-121908225c76"
      },
      "outputs": [
        {
          "data": {
            "text/plain": [
              "True"
            ]
          },
          "execution_count": 5,
          "metadata": {},
          "output_type": "execute_result"
        }
      ],
      "source": [
        "#  15) . Write a code to create a tuple containing three different fruits and check if \"kiwi\" is in it.('apple', 'kiwi', 'banana')\n",
        "\n",
        "r = ('apple', 'kiwi', 'banana')\n",
        "'kiwi' in r"
      ]
    },
    {
      "cell_type": "code",
      "execution_count": 6,
      "metadata": {
        "colab": {
          "base_uri": "https://localhost:8080/"
        },
        "id": "_kOcTdcav6bF",
        "outputId": "4b3b50a1-2afc-4136-95d1-1f1364825c75"
      },
      "outputs": [
        {
          "data": {
            "text/plain": [
              "{'a', 'b', 'c'}"
            ]
          },
          "execution_count": 6,
          "metadata": {},
          "output_type": "execute_result"
        }
      ],
      "source": [
        "#  16)  Write a code to create a set with the elements  'a', 'b', 'c'  and print it\n",
        "\n",
        "r = { 'a', 'b', 'c' }\n",
        "r"
      ]
    },
    {
      "cell_type": "code",
      "execution_count": 8,
      "metadata": {
        "colab": {
          "base_uri": "https://localhost:8080/"
        },
        "id": "5xX2fcm8wFKe",
        "outputId": "e907fbf2-55ab-4e45-96fc-bbf3e20460da"
      },
      "outputs": [
        {
          "data": {
            "text/plain": [
              "set()"
            ]
          },
          "execution_count": 8,
          "metadata": {},
          "output_type": "execute_result"
        }
      ],
      "source": [
        "#  17)  Write a code to clear all elements from the set {1, 2, 3, 4, 5}.\n",
        "\n",
        "r = {1,2,3,4,5}\n",
        "r.clear()\n",
        "r"
      ]
    },
    {
      "cell_type": "code",
      "execution_count": 10,
      "metadata": {
        "colab": {
          "base_uri": "https://localhost:8080/"
        },
        "id": "4wmA5mzPwjgq",
        "outputId": "4538a3ad-bb60-4fa9-ff3e-c8a120a0707e"
      },
      "outputs": [
        {
          "data": {
            "text/plain": [
              "{1, 2, 3}"
            ]
          },
          "execution_count": 10,
          "metadata": {},
          "output_type": "execute_result"
        }
      ],
      "source": [
        "#  18) Write a code to remove the element 4 from the set {1, 2, 3, 4}\n",
        "\n",
        "r = {1, 2, 3, 4}\n",
        "r.remove(4)\n",
        "r"
      ]
    },
    {
      "cell_type": "code",
      "execution_count": 12,
      "metadata": {
        "colab": {
          "base_uri": "https://localhost:8080/",
          "height": 35
        },
        "id": "KheY9PaowUHW",
        "outputId": "cee10d5f-684b-4c92-f436-ec24e3e6b787"
      },
      "outputs": [
        {
          "data": {
            "text/plain": [
              "{1, 2, 3, 4, 5}"
            ]
          },
          "execution_count": 12,
          "metadata": {},
          "output_type": "execute_result"
        }
      ],
      "source": [
        "#  19) Write a code to find the union of two sets {1, 2, 3} and {3, 4, 5}.\n",
        "\n",
        "\n",
        "r = {1, 2, 3}\n",
        "s = {3, 4, 5}\n",
        "r.union(s)\n"
      ]
    },
    {
      "cell_type": "code",
      "execution_count": 13,
      "metadata": {
        "colab": {
          "base_uri": "https://localhost:8080/"
        },
        "id": "Y9zn2CsdxGaC",
        "outputId": "bebf6cc0-08b2-4819-db24-7fca6c20b4e6"
      },
      "outputs": [
        {
          "data": {
            "text/plain": [
              "{2, 3}"
            ]
          },
          "execution_count": 13,
          "metadata": {},
          "output_type": "execute_result"
        }
      ],
      "source": [
        "#  20) Write a code to find the intersection of two sets {1, 2, 3} and {2, 3, 4}\n",
        "\n",
        "r = {1, 2, 3}\n",
        "s = {2, 3, 4}\n",
        "r.intersection(s)\n",
        "\n"
      ]
    },
    {
      "cell_type": "code",
      "execution_count": 14,
      "metadata": {
        "colab": {
          "base_uri": "https://localhost:8080/"
        },
        "id": "zrZw9K61yC2I",
        "outputId": "0fd888a8-aef4-4f10-9898-105cab315694"
      },
      "outputs": [
        {
          "data": {
            "text/plain": [
              "{'age', 'city', 'name'}"
            ]
          },
          "execution_count": 14,
          "metadata": {},
          "output_type": "execute_result"
        }
      ],
      "source": [
        "#  21)   Write a code to create a dictionary with the keys \"name\", \"age\", and \"city\", and print it.\n",
        "\n",
        "r = {\"name\",\"age\",\"city\"}\n",
        "r"
      ]
    },
    {
      "cell_type": "code",
      "execution_count": 15,
      "metadata": {
        "colab": {
          "base_uri": "https://localhost:8080/"
        },
        "id": "FJb4J1iIyRe9",
        "outputId": "238931cb-dd41-47aa-aa03-efd28a768478"
      },
      "outputs": [
        {
          "data": {
            "text/plain": [
              "{'name': 'John', 'age': 25, 'country': 'USA'}"
            ]
          },
          "execution_count": 15,
          "metadata": {},
          "output_type": "execute_result"
        }
      ],
      "source": [
        "#  22)Write a code to add a new key-value pair \"country\": \"USA\" to the dictionary {'name': 'John', 'age': 25}.\n",
        "\n",
        "r = {'name': 'John', 'age': 25 ,\"country\":\"USA\"}\n",
        "r"
      ]
    },
    {
      "cell_type": "code",
      "execution_count": 21,
      "metadata": {
        "colab": {
          "base_uri": "https://localhost:8080/"
        },
        "id": "iejXjW9YyZc5",
        "outputId": "0b132484-b9f9-4853-cbce-373d02f41761"
      },
      "outputs": [
        {
          "data": {
            "text/plain": [
              "'Alice'"
            ]
          },
          "execution_count": 21,
          "metadata": {},
          "output_type": "execute_result"
        }
      ],
      "source": [
        "#  23)Write a code to access the value associated with the key \"name\" in the dictionary {'name': 'Alice', 'age': 30}.\n",
        "\n",
        "s = {'name': 'Alice', 'age': 30}\n",
        "s[\"name\"]"
      ]
    },
    {
      "cell_type": "code",
      "execution_count": 24,
      "metadata": {
        "colab": {
          "base_uri": "https://localhost:8080/"
        },
        "id": "ffrh2cVBymmO",
        "outputId": "2ba6f506-245a-4c8a-c1fb-b83f8fafad37"
      },
      "outputs": [
        {
          "data": {
            "text/plain": [
              "{'name': 'Bob', 'city': 'New York'}"
            ]
          },
          "execution_count": 24,
          "metadata": {},
          "output_type": "execute_result"
        }
      ],
      "source": [
        "#  24) Write a code to remove the key \"age\" from the dictionary {'name': 'Bob', 'age': 22, 'city': 'New York'}.\n",
        "\n",
        "s = {'name': 'Bob', 'age': 22, 'city': 'New York'}\n",
        "del s ['age']\n",
        "s"
      ]
    },
    {
      "cell_type": "code",
      "execution_count": 26,
      "metadata": {
        "id": "fCLH3yy0y2mx"
      },
      "outputs": [
        {
          "name": "stdout",
          "output_type": "stream",
          "text": [
            "{'name': 'Alice', 'city': 'Paris'}\n"
          ]
        }
      ],
      "source": [
        "# 25) Write a code to check if the key \"city\" exists in the dictionary {'name': 'Alice', 'city': 'Paris'}\n",
        "\n",
        "s = {'name': 'Alice', 'city': 'Paris'}\n",
        "\n",
        "if 'city' in s:\n",
        "    print(s)"
      ]
    },
    {
      "cell_type": "code",
      "execution_count": 27,
      "metadata": {},
      "outputs": [
        {
          "name": "stdout",
          "output_type": "stream",
          "text": [
            "[1, 2, 3] (1, 2, 3) {1, 2, 3}\n"
          ]
        }
      ],
      "source": [
        "# 26) Write a code to create a list, a tuple, and a dictionary, and print them all\n",
        "\n",
        "list = [1,2,3]\n",
        "tople = (1,2,3)\n",
        "dict = {1,2,3}\n",
        "\n",
        "print(list,tople,dict)\n",
        "\n"
      ]
    },
    {
      "cell_type": "code",
      "execution_count": 28,
      "metadata": {},
      "outputs": [],
      "source": [
        "# 27)Write a code to create a list of 5 random numbers between 1 and 100, sort it in ascending order, and print the\n",
        "#    result.(replaced)\n"
      ]
    },
    {
      "cell_type": "code",
      "execution_count": 32,
      "metadata": {},
      "outputs": [
        {
          "name": "stdout",
          "output_type": "stream",
          "text": [
            "Element at index 3: date\n"
          ]
        }
      ],
      "source": [
        "# 28)  Write a code to create a list with strings and print the element at the third index.\n",
        "\n",
        "\n",
        "my_list = ['apple', 'banana', 'cherry', 'date', 'elderberry']\n",
        "\n",
        "element = my_list[3]\n",
        "\n",
        "print(\"Element at index 3:\", element)\n"
      ]
    },
    {
      "cell_type": "code",
      "execution_count": 38,
      "metadata": {},
      "outputs": [
        {
          "name": "stdout",
          "output_type": "stream",
          "text": [
            "{1, 2, 3} {4, 5, 6}\n"
          ]
        }
      ],
      "source": [
        "# 29) Write a code to combine two dictionaries into one and print the result.\n",
        "\n",
        "dict_1 = {1,2,3}\n",
        "dict_2 = {4,5,6}\n",
        "print(dict_1,dict_2)"
      ]
    },
    {
      "cell_type": "code",
      "execution_count": null,
      "metadata": {},
      "outputs": [],
      "source": [
        "# 30) Write a code to convert a list of strings into a set.\n",
        "\n"
      ]
    }
  ],
  "metadata": {
    "colab": {
      "provenance": []
    },
    "kernelspec": {
      "display_name": "Python 3",
      "name": "python3"
    },
    "language_info": {
      "codemirror_mode": {
        "name": "ipython",
        "version": 3
      },
      "file_extension": ".py",
      "mimetype": "text/x-python",
      "name": "python",
      "nbconvert_exporter": "python",
      "pygments_lexer": "ipython3",
      "version": "3.10.11"
    }
  },
  "nbformat": 4,
  "nbformat_minor": 0
}
